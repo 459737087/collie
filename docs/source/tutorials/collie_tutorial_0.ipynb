{
 "cells": [
  {
   "cell_type": "markdown",
   "metadata": {
    "editable": true,
    "slideshow": {
     "slide_type": ""
    },
    "tags": []
   },
   "source": [
    "# T0. 认识分布式训练\n",
    "\n",
    "在我们正式开始编写一个大语言模型的训练脚本之前，我们首先要理解什么是分布式训练。本教程有助于帮你理解分布式训练的基本概念，以及为什么我们在训练大规模深度学习模型时需要它。\n",
    "\n",
    "## 1. 什么是分布式训练\n",
    "\n",
    "分布式训练是深度学习的一项关键技术，它允许我们将计算均衡负载到多个计算设备上（这里主要指具备 CUDA 核心的 GPU 设备），这些设备可以在一台或多台机器上。通过这种方式，我们可以在有限的资源内使用更加庞大的训练数据、训练更加复杂的模型\n",
    "\n",
    "## 2. 为什么要使用分布式训练\n",
    "\n",
    "随着近年来 Transformer 架构模型的迅猛发展，我们对深度学习模型的规模和复杂性的需求也在不断增长。像 GPT-3 这样的模型具有千亿级别的参数，并且需要在大规模数据集上进行训练。然而，单一的计算设备（如一台服务器或一块 GPU）往往无法满足这些大型模型的训练需求，这就是我们需要分布式训练的原因。\n",
    "\n",
    "## 3. 如何进行分布式训练\n",
    "\n",
    "深度学习中的分布式训练大致分为两种：\n",
    "\n",
    "### 3.1 数据并行\n",
    "\n",
    "在数据并行中，每个设备拥有模型的完全副本，并处理数据的不同部分。所有设备的参数更新会定期同步。\n",
    "\n",
    "### 3.2 模型并行\n",
    "\n",
    "在模型并行中，模型的不同部分会被分配给不同的设备进行处理。这种方法对于无法在单个设备上完全装下的大型模型非常有用。包括流水线并行、张量并行、ZeRO-3 等。\n",
    "\n",
    "**CoLLie** 在 Deepspeed 和 Megatron-LM 的基础上，整合常见并行技术，为大模型训练中的预训练阶段、微调阶段、推理阶段提供统一、简洁的入口\n",
    "        "
   ]
  }
 ],
 "metadata": {
  "kernelspec": {
   "display_name": "Python 3 (ipykernel)",
   "language": "python",
   "name": "python3"
  },
  "language_info": {
   "codemirror_mode": {
    "name": "ipython",
    "version": 3
   },
   "file_extension": ".py",
   "mimetype": "text/x-python",
   "name": "python",
   "nbconvert_exporter": "python",
   "pygments_lexer": "ipython3",
   "version": "3.8.16"
  }
 },
 "nbformat": 4,
 "nbformat_minor": 4
}
