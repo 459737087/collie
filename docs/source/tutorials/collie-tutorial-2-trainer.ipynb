{
 "cells": [
  {
   "cell_type": "markdown",
   "id": "4f3b7df9",
   "metadata": {
    "pycharm": {
     "name": "#%% md\n"
    }
   },
   "source": [
    "# 2. CoLLiE 的使用分析\n",
    "\n",
    "> 2.1 &ensp; 案例：指令微调 MOSS\n",
    "> \n",
    "> 2.2 &ensp; CoLLiE 的 Config 模块\n",
    "> \n",
    "> 2.3 &ensp; CoLLiE 的 Monitor 模块\n",
    "> \n",
    "> 2.4 &ensp; CoLLiE 的 Evaluator 模块\n",
    "> \n",
    "> 2.5 &ensp; CoLLiE 的 Trainer 模块"
   ]
  },
  {
   "cell_type": "markdown",
   "id": "47eb9260",
   "metadata": {
    "pycharm": {
     "name": "#%% md\n"
    }
   },
   "source": [
    "## 2.1 &ensp; 案例：指令微调 MOSS\n",
    "\n",
    "&ensp; &ensp; 在上一章中，我们已经介绍了 CoLLiE 提出的背景、实现的功能 以及 包含的模块。\n",
    "\n",
    "&ensp; &ensp; 写个LOMO、ZeRO3、微调MOSS\n",
    "\n",
    "```sh\n",
    "!CUDA_VISIBLE_DEVICES=0,1,2,3 torchrun --nproc_per_node=4 --standalone example-tutorial-2-one-sentence-overfitting.py\n",
    "```"
   ]
  },
  {
   "cell_type": "markdown",
   "id": "0c88a1ea",
   "metadata": {
    "pycharm": {
     "name": "#%% md\n"
    }
   },
   "source": [
    "## 2.2 &ensp; CoLLiE 的 Config 模块\n",
    "\n",
    "&ensp; &ensp; config参数列表\n",
    "\n",
    "| 名称 | 描述 |\n",
    "|:----|:----|\n",
    "| seed | int,42,Random seed that will be set at the beginning of training | \n",
    "| pp_size | int,1,Pipeline parallelism degree. | \n",
    "| tp_size | int,1,Tensor parallelism degree. | \n",
    "| dp_size | int,1,Data parallelism degree | \n",
    "| pp_partition_method | str,'parameters',Partition method for pipeline parallelism. Default is 'parameters'. | \n",
    "| train_epochs | int,100,Number of training epochs. | \n",
    "| eval_per_n_steps | int,0,Evaluate every n steps. | \n",
    "| eval_per_n_epochs | int,0,Evaluate every n epochs. | \n",
    "| train_micro_batch_size | int,1,Batch size (one step) for training. | \n",
    "| gradient_accumulation_steps | int,1,Number of gradient accumulation steps. | \n",
    "| eval_batch_size | int,1,Batch size for evaluation. | \n",
    "| checkpointing | bool,True,Whether to use activation checkpointing.\n",
    "| use_flash | bool,True,Whether to use flash attention.\n",
    "| dropout | float,0.0,Dropout probability. | \n",
    "| initization_method | str,\"none\",Initialization method. Possible values are 'none', 'normal', 'xavier_normal', 'xavier_uniform',<br> 'kaiming_normal', 'kaiming_uniform', 'orthogonal', 'sparse', 'eye', 'dirac'. | \n",
    "| initization_method_params | dict,None,Parameters for initialization method.\n",
    "| low_cpu_mem_usage | bool,True,Tries to not use more than 1x model size in CPU memory (including peak memory) while loading the model. | \n",
    "| ds_config | Union[str, dict],\"\",DeepSpeed configuration file. | \n",
    "| model_config | PretrainedConfig,PretrainedConfig(),Model configuration. | \n",
    "| peft_config | PeftConfig,PeftConfig(),PEFT configuration. | \n",
    "| quantization_config | BitsAndBytesConfig,BitsAndBytesConfig(),Configuration parameters for the `bitsandbytes` library | "
   ]
  },
  {
   "cell_type": "markdown",
   "id": "b87a1d86",
   "metadata": {
    "pycharm": {
     "name": "#%%\n"
    }
   },
   "source": [
    "&ensp; &ensp; 在`example-tutorial-2-one-sentence-overfitting.py`脚本中，\n",
    "\n",
    "``` python\n",
    "from collie.config import CollieConfig\n",
    "\n",
    "pretrained_model = \"fnlp/moss-moon-003-sft\"  \n",
    "\n",
    "config = CollieConfig.from_pretrained(pretrained_model, trust_remote_code=True)\n",
    "config.tp_size = 1\n",
    "config.dp_size = 1\n",
    "config.pp_size = 1\n",
    "config.train_epochs = 1\n",
    "config.eval_per_n_steps = 0\n",
    "config.eval_per_n_epochs = 1 \n",
    "config.train_micro_batch_size = 2\n",
    "config.eval_batch_size = 1\n",
    "```"
   ]
  },
  {
   "cell_type": "markdown",
   "id": "f2fde1c3",
   "metadata": {
    "pycharm": {
     "name": "#%% md\n"
    }
   },
   "source": [
    "## 2.3 &ensp; CoLLiE 的 Monitor 模块\n",
    "\n",
    "&ensp; &ensp; monitor模块列表\n",
    "\n",
    "| 名称 | 描述 |\n",
    "|:----|:----|\n",
    "| BaseMonitor | 用于记录模型训练过程中的统计信息 |\n",
    "| StepTimeMonitor | 用来记录每个step的时间 |\n",
    "| NetworkIOMonitor | 用来记录每个step的网络带宽情况 |\n",
    "| DiskIOMonitor | 用来记录每个step的硬盘读写情况 |\n",
    "| TGSMonitor | 用来记录每秒每张 GPU 可训练的 token 数 (token / s / GPU) |\n",
    "| CPUMemoryMonitor | 用来记录每个step的CPU内存占用 |\n",
    "| MemoryMonitor | 用来记录每个step的内存占用 |\n",
    "| LossMonitor | 用来记录每个step的loss |\n",
    "| EvalMonitor | 用来记录每个step的eval结果，仅支持 int 和 float 类型的结果 |\n",
    "| LRMonitor | 用来记录每个step的learning rate |"
   ]
  },
  {
   "cell_type": "markdown",
   "id": "f69755bd",
   "metadata": {},
   "source": [
    "&ensp; &ensp; 在`example-tutorial-2-one-sentence-overfitting.py`脚本中，"
   ]
  },
  {
   "cell_type": "markdown",
   "id": "b7fa344c",
   "metadata": {},
   "source": [
    "``` python\n",
    "from collie.utils.monitor import StepTimeMonitor, TGSMonitor, MemoryMonitor, LossMonitor, EvalMonitor\n",
    "\n",
    "monitors = [\n",
    "    StepTimeMonitor(config),\n",
    "    TGSMonitor(config),\n",
    "    MemoryMonitor(config),\n",
    "    LossMonitor(config),\n",
    "    EvalMonitor(config)\n",
    "]\n",
    "``` "
   ]
  },
  {
   "cell_type": "markdown",
   "id": "70138f5c",
   "metadata": {
    "pycharm": {
     "name": "#%% md\n"
    }
   },
   "source": [
    "## 2.4 &ensp; CoLLiE 的 Evaluator 模块\n",
    "\n",
    "&ensp; &ensp; evaluator模块列表\n",
    "\n",
    "| 名称 | 描述 |\n",
    "|:----|:----|\n",
    "| Evaluator | | \n",
    "| EvaluatorForPerplexity | | \n",
    "| EvaluatorForClassfication | | \n",
    "| EvaluatorForGeneration | | \n",
    "\n",
    "&ensp; &ensp; metric模块列表\n",
    "\n",
    "| 名称 | 描述 |\n",
    "|:----|:----|\n",
    "| BaseMetric | |\n",
    "| DecodeMetric | |\n",
    "| AccuracyMetric | |\n",
    "| PPLMetric | |\n",
    "| BleuMetric | |\n",
    "| RougeMetric | |\n",
    "| ClassifyFPreRecMetric | |"
   ]
  },
  {
   "cell_type": "markdown",
   "id": "d10beddc",
   "metadata": {
    "pycharm": {
     "name": "#%%\n"
    }
   },
   "source": [
    "&ensp; &ensp; 在`example-tutorial-2-one-sentence-overfitting.py`脚本中，\n",
    "\n",
    "``` python\n",
    "from collie.controller.evaluator import EvaluatorForPerplexity, EvaluatorForGeneration\n",
    "\n",
    "from collie.metrics import PPLMetric, DecodeMetric\n",
    "\n",
    "evaluator_ppl = EvaluatorForPerplexity(\n",
    "    model=model, config=config, dataset=eval_dataset,\n",
    "    monitors=[EvalMonitor(config), ], metrics={'ppl': PPLMetric(), }\n",
    ")\n",
    "\n",
    "evaluator_decode = EvaluatorForGeneration(\n",
    "    model=model, config=config, tokenizer=tokenizer, dataset=eval_dataset,\n",
    "    monitors=[EvalMonitor(config), ], metrics={'decode': DecodeMetric(), }\n",
    ")\n",
    "``` "
   ]
  },
  {
   "cell_type": "markdown",
   "id": "e940a922",
   "metadata": {
    "pycharm": {
     "name": "#%% md\n"
    }
   },
   "source": [
    "## 2.5 &ensp; CoLLiE 的 Trainer 模块\n",
    "\n",
    "&ensp; &ensp; trainer参数列表\n",
    "\n",
    "| 名称 | 描述 |\n",
    "|:----|:----|\n",
    "| model | torch.nn.Module,, | \n",
    "| config | CollieConfig,, | \n",
    "| tokenizer | PreTrainedTokenizerBase,None, | \n",
    "| loss_fn | Callable,GPTLMLoss(), | \n",
    "| train_fn | Callable,None, | \n",
    "| eval_fn | Callable,None, | \n",
    "| optimizer | torch.optim.Optimizer,None, | \n",
    "| lr_scheduler | LRScheduler, DeepSpeedSchedulerCallable,None, | \n",
    "| train_dataset | torch.utils.data.Dataset,None, | \n",
    "| eval_dataset | torch.utils.data.Dataset,None, | \n",
    "| callbacks | Callback, List[Callback],None, | \n",
    "| train_dataset_collate_fn | Callable,ColliePadder(), | \n",
    "| eval_dataset_collate_fn | Callable,ColliePadder(padding_left=True), | \n",
    "| data_provider | BaseProvider,None, | \n",
    "| monitors | BaseMonitor,[], | \n",
    "| metrics | Dict,None, | \n",
    "| evaluators | List,None, | "
   ]
  },
  {
   "cell_type": "markdown",
   "id": "367ccdbe",
   "metadata": {
    "pycharm": {
     "name": "#%%\n"
    }
   },
   "source": [
    "&ensp; &ensp; 在`example-tutorial-2-one-sentence-overfitting.py`脚本中，\n",
    "\n",
    "``` python\n",
    "from collie.controller.trainer import Trainer\n",
    "\n",
    "trainer = Trainer(\n",
    "    model=model,config=config,train_dataset=train_dataset,\n",
    "    loss_fn=GPTLMLoss(-100),optimizer=optimizer,\n",
    "    monitors=monitors, evaluators=[evaluator_ppl, evaluator_decode]\n",
    ")\n",
    "\n",
    "trainer.train()\n",
    "```"
   ]
  },
  {
   "cell_type": "code",
   "execution_count": null,
   "id": "8b912403",
   "metadata": {},
   "outputs": [],
   "source": []
  }
 ],
 "metadata": {
  "kernelspec": {
   "display_name": "Python 3 (ipykernel)",
   "language": "python",
   "name": "python3"
  },
  "language_info": {
   "codemirror_mode": {
    "name": "ipython",
    "version": 3
   },
   "file_extension": ".py",
   "mimetype": "text/x-python",
   "name": "python",
   "nbconvert_exporter": "python",
   "pygments_lexer": "ipython3",
   "version": "3.9.16"
  }
 },
 "nbformat": 4,
 "nbformat_minor": 5
}
