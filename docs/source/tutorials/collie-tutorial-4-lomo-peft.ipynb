{
 "cells": [
  {
   "cell_type": "markdown",
   "id": "1c363604",
   "metadata": {
    "pycharm": {
     "name": "#%% md\n"
    }
   },
   "source": [
    "# 4. CoLLiE 的高效微调\n",
    "\n",
    "> 4.1 &ensp; CoLLiE 实现 LOMO 算法\n",
    "> \n",
    "> 4.2 &ensp; CoLLiE 结合 PEFT 模块\n",
    "> \n",
    "> 4.3 &ensp; CoLLiE 的 Callback 模块\n",
    "> \n",
    "> 4.4 &ensp; CoLLiE 的 Server 模块"
   ]
  },
  {
   "cell_type": "markdown",
   "id": "74d1879d",
   "metadata": {
    "pycharm": {
     "name": "#%% md\n"
    }
   },
   "source": [
    "&ensp; &ensp; 流水线不支持 LOMO，因为 1F1B"
   ]
  },
  {
   "cell_type": "code",
   "execution_count": null,
   "id": "045a84e8",
   "metadata": {
    "pycharm": {
     "name": "#%%\n"
    }
   },
   "outputs": [],
   "source": []
  }
 ],
 "metadata": {
  "kernelspec": {
   "display_name": "Python 3 (ipykernel)",
   "language": "python",
   "name": "python3"
  },
  "language_info": {
   "codemirror_mode": {
    "name": "ipython",
    "version": 3
   },
   "file_extension": ".py",
   "mimetype": "text/x-python",
   "name": "python",
   "nbconvert_exporter": "python",
   "pygments_lexer": "ipython3",
   "version": "3.9.16"
  }
 },
 "nbformat": 4,
 "nbformat_minor": 5
}
